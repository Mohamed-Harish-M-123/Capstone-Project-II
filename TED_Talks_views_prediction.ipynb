{
  "nbformat": 4,
  "nbformat_minor": 0,
  "metadata": {
    "colab": {
      "provenance": [],
      "authorship_tag": "ABX9TyMOeMyrd8erNsfmGpTm11NH",
      "include_colab_link": true
    },
    "kernelspec": {
      "name": "python3",
      "display_name": "Python 3"
    },
    "language_info": {
      "name": "python"
    }
  },
  "cells": [
    {
      "cell_type": "markdown",
      "metadata": {
        "id": "view-in-github",
        "colab_type": "text"
      },
      "source": [
        "<a href=\"https://colab.research.google.com/github/Mohamed-Harish-M-123/Capstone-Project-II/blob/main/TED_Talks_views_prediction.ipynb\" target=\"_parent\"><img src=\"https://colab.research.google.com/assets/colab-badge.svg\" alt=\"Open In Colab\"/></a>"
      ]
    },
    {
      "cell_type": "markdown",
      "source": [
        "## Project Name: TED Talks views prediction\n",
        "\n",
        "Project Type: Machine Learning - Regression\n",
        "\n",
        "Name: MOHAMED HARISH\n",
        "\n",
        "Contribution: Individual"
      ],
      "metadata": {
        "id": "SgPVAPz_Dk-Q"
      }
    },
    {
      "cell_type": "markdown",
      "source": [
        "## Project Summary:\n",
        "TED (Technology, Entertainment, Design) Talks are a series of influential and inspiring talks given by experts and thought leaders from a wide range of fields. The talks are typically 18 minutes or less and are designed to share innovative ideas, spark conversation, and foster learning.\n",
        "\n",
        "TED Talks began in 1984 as a conference where experts from the fields of technology, entertainment, and design could come together to share their ideas. Since then, the TED conference has expanded to cover a wide range of topics, including science, business, education, and more.\n",
        "\n",
        "The aim of this project is to develop a machine learning model that can predict the number of views a video uploaded to the TEDx website is likely to receive. The TEDx platform hosts a vast collection of informative and thought-provoking talks from a diverse range of speakers. The prediction model will help the organizers and the speakers to determine the impact of their talks and to optimize the success of future uploads.\n"
      ],
      "metadata": {
        "id": "6V0l4cEUtMiX"
      }
    },
    {
      "cell_type": "markdown",
      "source": [
        "## GitHub Link:\n",
        "\n",
        "#### https://github.com/Mohamed-Harish-M-123/Capstone-Project-II"
      ],
      "metadata": {
        "id": "UaTI8pLHxn5y"
      }
    },
    {
      "cell_type": "markdown",
      "source": [
        "## Problem Statement:\n",
        "\n",
        "  The problem statement for this project is to develop a regression model that can accurately predict the number of views that a TEDx talk video will receive on the website. To achieve this, we will need to collect a dataset of TEDx talk videos, along with their respective view counts, and use this data to train and test the regression model.\n",
        "\n",
        "We will need to consider a variety of factors that may influence the view count of a video, such as the topic of the talk, the speaker's profile, the length of the video, and the language of the talk. We will use feature engineering techniques to extract relevant features from the data and use various regression algorithms to build the prediction model.\n",
        "\n",
        "The success of the project will be evaluated based on the model's accuracy in predicting the view count of TEDx talk videos."
      ],
      "metadata": {
        "id": "uHkC22iLcoKG"
      }
    },
    {
      "cell_type": "markdown",
      "source": [
        "## Importing Libraries"
      ],
      "metadata": {
        "id": "aAwSIpByrwO-"
      }
    },
    {
      "cell_type": "code",
      "source": [
        "# Import the required libraries\n",
        "\n",
        "import pandas as pd\n",
        "import numpy as np\n",
        "import seaborn as sns\n",
        "import matplotlib.pyplot as plt\n",
        "%matplotlib inline\n",
        "\n",
        "from google.colab import drive\n",
        "\n",
        "from sklearn.model_selection import train_test_split\n",
        "from sklearn.preprocessing import StandardScaler, MinMaxScaler\n",
        "from sklearn.metrics import mean_squared_error, r2_score,mean_absolute_error\n"
      ],
      "metadata": {
        "id": "jGyegrBfr_gI"
      },
      "execution_count": 3,
      "outputs": []
    },
    {
      "cell_type": "markdown",
      "source": [
        "## Let's load our dataset"
      ],
      "metadata": {
        "id": "-n9QQDyYwLSX"
      }
    },
    {
      "cell_type": "code",
      "source": [
        "# mount our drive to colab\n",
        "\n",
        "drive.mount('/content/drive')\n",
        "\n",
        "path = '/content/drive/MyDrive/dataset/data_ted_talks.csv'\n",
        "\n",
        "df = pd.read_csv(path)"
      ],
      "metadata": {
        "id": "vZIDJ5XNwVi_",
        "outputId": "4f54ca0b-5f05-4837-e030-b73d6cdc876c",
        "colab": {
          "base_uri": "https://localhost:8080/"
        }
      },
      "execution_count": 7,
      "outputs": [
        {
          "output_type": "stream",
          "name": "stdout",
          "text": [
            "Drive already mounted at /content/drive; to attempt to forcibly remount, call drive.mount(\"/content/drive\", force_remount=True).\n"
          ]
        }
      ]
    },
    {
      "cell_type": "code",
      "source": [
        "df.info()"
      ],
      "metadata": {
        "id": "rfmfV_yyy6Is",
        "outputId": "f1623334-08e1-4bc0-9758-adc159462daa",
        "colab": {
          "base_uri": "https://localhost:8080/"
        }
      },
      "execution_count": 10,
      "outputs": [
        {
          "output_type": "stream",
          "name": "stdout",
          "text": [
            "<class 'pandas.core.frame.DataFrame'>\n",
            "RangeIndex: 4005 entries, 0 to 4004\n",
            "Data columns (total 19 columns):\n",
            " #   Column          Non-Null Count  Dtype  \n",
            "---  ------          --------------  -----  \n",
            " 0   talk_id         4005 non-null   int64  \n",
            " 1   title           4005 non-null   object \n",
            " 2   speaker_1       4005 non-null   object \n",
            " 3   all_speakers    4001 non-null   object \n",
            " 4   occupations     3483 non-null   object \n",
            " 5   about_speakers  3502 non-null   object \n",
            " 6   views           4005 non-null   int64  \n",
            " 7   recorded_date   4004 non-null   object \n",
            " 8   published_date  4005 non-null   object \n",
            " 9   event           4005 non-null   object \n",
            " 10  native_lang     4005 non-null   object \n",
            " 11  available_lang  4005 non-null   object \n",
            " 12  comments        3350 non-null   float64\n",
            " 13  duration        4005 non-null   int64  \n",
            " 14  topics          4005 non-null   object \n",
            " 15  related_talks   4005 non-null   object \n",
            " 16  url             4005 non-null   object \n",
            " 17  description     4005 non-null   object \n",
            " 18  transcript      4005 non-null   object \n",
            "dtypes: float64(1), int64(3), object(15)\n",
            "memory usage: 594.6+ KB\n"
          ]
        }
      ]
    },
    {
      "cell_type": "code",
      "source": [],
      "metadata": {
        "id": "7TwZMCUMzQtc"
      },
      "execution_count": null,
      "outputs": []
    }
  ]
}