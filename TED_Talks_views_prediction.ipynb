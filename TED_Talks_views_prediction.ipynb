{
  "nbformat": 4,
  "nbformat_minor": 0,
  "metadata": {
    "colab": {
      "provenance": [],
      "authorship_tag": "ABX9TyMOBer1huVHOvscx/Bf4DhX",
      "include_colab_link": true
    },
    "kernelspec": {
      "name": "python3",
      "display_name": "Python 3"
    },
    "language_info": {
      "name": "python"
    }
  },
  "cells": [
    {
      "cell_type": "markdown",
      "metadata": {
        "id": "view-in-github",
        "colab_type": "text"
      },
      "source": [
        "<a href=\"https://colab.research.google.com/github/Mohamed-Harish-M-123/Capstone-Project-II/blob/main/TED_Talks_views_prediction.ipynb\" target=\"_parent\"><img src=\"https://colab.research.google.com/assets/colab-badge.svg\" alt=\"Open In Colab\"/></a>"
      ]
    },
    {
      "cell_type": "markdown",
      "source": [
        "## Project Name: TED Talks views prediction\n",
        "\n",
        "Project Type: Machine Learning - Regression\n",
        "\n",
        "Name: MOHAMED HARISH\n",
        "\n",
        "Contribution: Individual"
      ],
      "metadata": {
        "id": "SgPVAPz_Dk-Q"
      }
    },
    {
      "cell_type": "markdown",
      "source": [
        "## Project Summary:\n",
        "TED (Technology, Entertainment, Design) Talks are a series of influential and inspiring talks given by experts and thought leaders from a wide range of fields. The talks are typically 18 minutes or less and are designed to share innovative ideas, spark conversation, and foster learning.\n",
        "\n",
        "TED Talks began in 1984 as a conference where experts from the fields of technology, entertainment, and design could come together to share their ideas. Since then, the TED conference has expanded to cover a wide range of topics, including science, business, education, and more.\n",
        "\n",
        "The aim of this project is to develop a machine learning model that can predict the number of views a video uploaded to the TEDx website is likely to receive. The TEDx platform hosts a vast collection of informative and thought-provoking talks from a diverse range of speakers. The prediction model will help the organizers and the speakers to determine the impact of their talks and to optimize the success of future uploads.\n"
      ],
      "metadata": {
        "id": "6V0l4cEUtMiX"
      }
    },
    {
      "cell_type": "markdown",
      "source": [
        "## GitHub Link:\n",
        "\n",
        "#### https://github.com/Mohamed-Harish-M-123/Capstone-Project-II"
      ],
      "metadata": {
        "id": "UaTI8pLHxn5y"
      }
    },
    {
      "cell_type": "markdown",
      "source": [
        "## Problem Statement:\n",
        "\n",
        "  The problem statement for this project is to develop a regression model that can accurately predict the number of views that a TEDx talk video will receive on the website. To achieve this, we will need to collect a dataset of TEDx talk videos, along with their respective view counts, and use this data to train and test the regression model.\n",
        "\n",
        "We will need to consider a variety of factors that may influence the view count of a video, such as the topic of the talk, the speaker's profile, the length of the video, and the language of the talk. We will use feature engineering techniques to extract relevant features from the data and use various regression algorithms to build the prediction model.\n",
        "\n",
        "The success of the project will be evaluated based on the model's accuracy in predicting the view count of TEDx talk videos."
      ],
      "metadata": {
        "id": "uHkC22iLcoKG"
      }
    }
  ]
}