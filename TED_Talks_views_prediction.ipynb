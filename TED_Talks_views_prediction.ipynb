{
  "nbformat": 4,
  "nbformat_minor": 0,
  "metadata": {
    "colab": {
      "provenance": [],
      "authorship_tag": "ABX9TyMGG/tD15zmSfl5mvu3FHpp",
      "include_colab_link": true
    },
    "kernelspec": {
      "name": "python3",
      "display_name": "Python 3"
    },
    "language_info": {
      "name": "python"
    }
  },
  "cells": [
    {
      "cell_type": "markdown",
      "metadata": {
        "id": "view-in-github",
        "colab_type": "text"
      },
      "source": [
        "<a href=\"https://colab.research.google.com/github/Mohamed-Harish-M-123/Capstone-Project-II/blob/main/TED_Talks_views_prediction.ipynb\" target=\"_parent\"><img src=\"https://colab.research.google.com/assets/colab-badge.svg\" alt=\"Open In Colab\"/></a>"
      ]
    },
    {
      "cell_type": "markdown",
      "source": [
        "## Project Name: TED Talks views prediction\n",
        "\n",
        "Project Type: Machine Learning - Regression\n",
        "\n",
        "Name: MOHAMED HARISH\n",
        "\n",
        "Contribution: Individual"
      ],
      "metadata": {
        "id": "SgPVAPz_Dk-Q"
      }
    },
    {
      "cell_type": "code",
      "source": [],
      "metadata": {
        "id": "VVvrDqBiD_YJ"
      },
      "execution_count": null,
      "outputs": []
    }
  ]
}